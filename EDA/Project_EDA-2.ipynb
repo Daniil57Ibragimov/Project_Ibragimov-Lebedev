{
 "cells": [
  {
   "cell_type": "code",
   "execution_count": 1,
   "id": "88ed07f3",
   "metadata": {},
   "outputs": [],
   "source": [
    "import pandas as pd\n",
    "import numpy as np\n",
    "\n",
    "import matplotlib.pyplot as plt\n",
    "import seaborn as sns\n",
    "import scipy.stats as sts\n",
    "\n",
    "from tqdm.notebook import tqdm\n",
    "\n",
    "import warnings\n",
    "warnings.filterwarnings(\"ignore\")"
   ]
  },
  {
   "cell_type": "code",
   "execution_count": 2,
   "id": "9c1b6c5b",
   "metadata": {},
   "outputs": [
    {
     "data": {
      "text/html": [
       "<div>\n",
       "<style scoped>\n",
       "    .dataframe tbody tr th:only-of-type {\n",
       "        vertical-align: middle;\n",
       "    }\n",
       "\n",
       "    .dataframe tbody tr th {\n",
       "        vertical-align: top;\n",
       "    }\n",
       "\n",
       "    .dataframe thead th {\n",
       "        text-align: right;\n",
       "    }\n",
       "</style>\n",
       "<table border=\"1\" class=\"dataframe\">\n",
       "  <thead>\n",
       "    <tr style=\"text-align: right;\">\n",
       "      <th></th>\n",
       "      <th>Тип</th>\n",
       "      <th>Площадь</th>\n",
       "      <th>Этаж</th>\n",
       "      <th>Стоимость</th>\n",
       "      <th>Адрес</th>\n",
       "    </tr>\n",
       "  </thead>\n",
       "  <tbody>\n",
       "    <tr>\n",
       "      <th>0</th>\n",
       "      <td>Студия</td>\n",
       "      <td>10 м²</td>\n",
       "      <td>1/3 эт.</td>\n",
       "      <td>1 049 000 ₽</td>\n",
       "      <td>Москва, поселение Первомайское, деревня Иванов...</td>\n",
       "    </tr>\n",
       "    <tr>\n",
       "      <th>1</th>\n",
       "      <td>Студия</td>\n",
       "      <td>10 м²</td>\n",
       "      <td>1/3 эт.</td>\n",
       "      <td>1 150 000 ₽</td>\n",
       "      <td>Москва, поселение Первомайское, деревня Иванов...</td>\n",
       "    </tr>\n",
       "    <tr>\n",
       "      <th>2</th>\n",
       "      <td>Апартаменты-студия</td>\n",
       "      <td>11,7 м²</td>\n",
       "      <td>1/16 эт.</td>\n",
       "      <td>1 500 000 ₽</td>\n",
       "      <td>Москва, Юго-Восточный административный округ, ...</td>\n",
       "    </tr>\n",
       "    <tr>\n",
       "      <th>3</th>\n",
       "      <td>Апартаменты-студия</td>\n",
       "      <td>15,3 м²</td>\n",
       "      <td>1/16 эт.</td>\n",
       "      <td>1 590 000 ₽</td>\n",
       "      <td>Москва, Волжский бульвар, 19</td>\n",
       "    </tr>\n",
       "    <tr>\n",
       "      <th>4</th>\n",
       "      <td>Апартаменты-студия</td>\n",
       "      <td>13 м²</td>\n",
       "      <td>1/3 эт.</td>\n",
       "      <td>1 650 000 ₽</td>\n",
       "      <td>Москва, посёлок Первомайское, Центральная улиц...</td>\n",
       "    </tr>\n",
       "  </tbody>\n",
       "</table>\n",
       "</div>"
      ],
      "text/plain": [
       "                  Тип  Площадь      Этаж    Стоимость  \\\n",
       "0              Студия    10 м²   1/3 эт.  1 049 000 ₽   \n",
       "1              Студия    10 м²   1/3 эт.  1 150 000 ₽   \n",
       "2  Апартаменты-студия  11,7 м²  1/16 эт.  1 500 000 ₽   \n",
       "3  Апартаменты-студия  15,3 м²  1/16 эт.  1 590 000 ₽   \n",
       "4  Апартаменты-студия    13 м²   1/3 эт.  1 650 000 ₽   \n",
       "\n",
       "                                               Адрес  \n",
       "0  Москва, поселение Первомайское, деревня Иванов...  \n",
       "1  Москва, поселение Первомайское, деревня Иванов...  \n",
       "2  Москва, Юго-Восточный административный округ, ...  \n",
       "3                       Москва, Волжский бульвар, 19  \n",
       "4  Москва, посёлок Первомайское, Центральная улиц...  "
      ]
     },
     "execution_count": 2,
     "metadata": {},
     "output_type": "execute_result"
    }
   ],
   "source": [
    "df = pd.read_csv(\"https://raw.githubusercontent.com/Daniil57Ibragimov/Project_Ibragimov-Lebedev/main/new_parameter/Project's_Data.txt\", sep = ',')\n",
    "df.head()"
   ]
  },
  {
   "cell_type": "code",
   "execution_count": null,
   "id": "d7a147e1",
   "metadata": {},
   "outputs": [],
   "source": []
  }
 ],
 "metadata": {
  "kernelspec": {
   "display_name": "Python 3 (ipykernel)",
   "language": "python",
   "name": "python3"
  },
  "language_info": {
   "codemirror_mode": {
    "name": "ipython",
    "version": 3
   },
   "file_extension": ".py",
   "mimetype": "text/x-python",
   "name": "python",
   "nbconvert_exporter": "python",
   "pygments_lexer": "ipython3",
   "version": "3.9.12"
  }
 },
 "nbformat": 4,
 "nbformat_minor": 5
}
