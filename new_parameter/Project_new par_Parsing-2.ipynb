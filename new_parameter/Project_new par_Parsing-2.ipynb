{
 "cells": [
  {
   "cell_type": "code",
   "execution_count": 1,
   "id": "412cae6b",
   "metadata": {},
   "outputs": [],
   "source": [
    "import pandas as pd\n",
    "import numpy as np\n",
    "\n",
    "import matplotlib.pyplot as plt\n",
    "import seaborn as sns\n",
    "import scipy.stats as sts\n",
    "\n",
    "from tqdm.notebook import tqdm\n",
    "\n",
    "import warnings\n",
    "warnings.filterwarnings(\"ignore\")"
   ]
  },
  {
   "cell_type": "code",
   "execution_count": 19,
   "id": "d15c84eb",
   "metadata": {},
   "outputs": [
    {
     "data": {
      "text/html": [
       "<div>\n",
       "<style scoped>\n",
       "    .dataframe tbody tr th:only-of-type {\n",
       "        vertical-align: middle;\n",
       "    }\n",
       "\n",
       "    .dataframe tbody tr th {\n",
       "        vertical-align: top;\n",
       "    }\n",
       "\n",
       "    .dataframe thead th {\n",
       "        text-align: right;\n",
       "    }\n",
       "</style>\n",
       "<table border=\"1\" class=\"dataframe\">\n",
       "  <thead>\n",
       "    <tr style=\"text-align: right;\">\n",
       "      <th></th>\n",
       "      <th>Тип</th>\n",
       "      <th>Площадь</th>\n",
       "      <th>Этаж</th>\n",
       "      <th>Стоимость</th>\n",
       "      <th>Адрес</th>\n",
       "    </tr>\n",
       "  </thead>\n",
       "  <tbody>\n",
       "    <tr>\n",
       "      <th>0</th>\n",
       "      <td>Студия</td>\n",
       "      <td>10 м²</td>\n",
       "      <td>1/3 эт.</td>\n",
       "      <td>1 049 000 ₽</td>\n",
       "      <td>Москва, поселение Первомайское, деревня Иванов...</td>\n",
       "    </tr>\n",
       "    <tr>\n",
       "      <th>1</th>\n",
       "      <td>Студия</td>\n",
       "      <td>10 м²</td>\n",
       "      <td>1/3 эт.</td>\n",
       "      <td>1 150 000 ₽</td>\n",
       "      <td>Москва, поселение Первомайское, деревня Иванов...</td>\n",
       "    </tr>\n",
       "    <tr>\n",
       "      <th>2</th>\n",
       "      <td>Апартаменты-студия</td>\n",
       "      <td>11,7 м²</td>\n",
       "      <td>1/16 эт.</td>\n",
       "      <td>1 500 000 ₽</td>\n",
       "      <td>Москва, Юго-Восточный административный округ, ...</td>\n",
       "    </tr>\n",
       "    <tr>\n",
       "      <th>3</th>\n",
       "      <td>Апартаменты-студия</td>\n",
       "      <td>15,3 м²</td>\n",
       "      <td>1/16 эт.</td>\n",
       "      <td>1 590 000 ₽</td>\n",
       "      <td>Москва, Волжский бульвар, 19</td>\n",
       "    </tr>\n",
       "    <tr>\n",
       "      <th>4</th>\n",
       "      <td>Апартаменты-студия</td>\n",
       "      <td>13 м²</td>\n",
       "      <td>1/3 эт.</td>\n",
       "      <td>1 650 000 ₽</td>\n",
       "      <td>Москва, посёлок Первомайское, Центральная улиц...</td>\n",
       "    </tr>\n",
       "  </tbody>\n",
       "</table>\n",
       "</div>"
      ],
      "text/plain": [
       "                  Тип  Площадь      Этаж    Стоимость  \\\n",
       "0              Студия    10 м²   1/3 эт.  1 049 000 ₽   \n",
       "1              Студия    10 м²   1/3 эт.  1 150 000 ₽   \n",
       "2  Апартаменты-студия  11,7 м²  1/16 эт.  1 500 000 ₽   \n",
       "3  Апартаменты-студия  15,3 м²  1/16 эт.  1 590 000 ₽   \n",
       "4  Апартаменты-студия    13 м²   1/3 эт.  1 650 000 ₽   \n",
       "\n",
       "                                               Адрес  \n",
       "0  Москва, поселение Первомайское, деревня Иванов...  \n",
       "1  Москва, поселение Первомайское, деревня Иванов...  \n",
       "2  Москва, Юго-Восточный административный округ, ...  \n",
       "3                       Москва, Волжский бульвар, 19  \n",
       "4  Москва, посёлок Первомайское, Центральная улиц...  "
      ]
     },
     "execution_count": 19,
     "metadata": {},
     "output_type": "execute_result"
    }
   ],
   "source": [
    "df = pd.read_csv(\"https://raw.githubusercontent.com/Daniil57Ibragimov/Project_Ibragimov-Lebedev/main/new_parameter/Project's_Data.txt\", sep = ',')\n",
    "df.head()"
   ]
  },
  {
   "cell_type": "code",
   "execution_count": 21,
   "id": "dd1da041",
   "metadata": {},
   "outputs": [
    {
     "data": {
      "application/vnd.jupyter.widget-view+json": {
       "model_id": "269ce996d08d48b69c583ad18c0bb38d",
       "version_major": 2,
       "version_minor": 0
      },
      "text/plain": [
       "  0%|          | 0/100 [00:00<?, ?it/s]"
      ]
     },
     "metadata": {},
     "output_type": "display_data"
    },
    {
     "ename": "NameError",
     "evalue": "name 'df_copy' is not defined",
     "output_type": "error",
     "traceback": [
      "\u001b[0;31m---------------------------------------------------------------------------\u001b[0m",
      "\u001b[0;31mNameError\u001b[0m                                 Traceback (most recent call last)",
      "Input \u001b[0;32mIn [21]\u001b[0m, in \u001b[0;36m<cell line: 4>\u001b[0;34m()\u001b[0m\n\u001b[1;32m      2\u001b[0m coordinates_list \u001b[38;5;241m=\u001b[39m []\n\u001b[1;32m      4\u001b[0m \u001b[38;5;28;01mfor\u001b[39;00m i \u001b[38;5;129;01min\u001b[39;00m tqdm(\u001b[38;5;28mrange\u001b[39m(\u001b[38;5;241m100\u001b[39m)):\n\u001b[0;32m----> 5\u001b[0m     \u001b[38;5;28;01mif\u001b[39;00m \u001b[43mdf_copy\u001b[49m[\u001b[38;5;124m'\u001b[39m\u001b[38;5;124mАдрес\u001b[39m\u001b[38;5;124m'\u001b[39m][i] \u001b[38;5;129;01mnot\u001b[39;00m \u001b[38;5;129;01min\u001b[39;00m coordinates_list:\n\u001b[1;32m      6\u001b[0m         k \u001b[38;5;241m=\u001b[39m df_copy[\u001b[38;5;124m'\u001b[39m\u001b[38;5;124mАдрес\u001b[39m\u001b[38;5;124m'\u001b[39m][i]\n\u001b[1;32m      7\u001b[0m         \u001b[38;5;66;03m# Формируем запрос к API Photon\u001b[39;00m\n",
      "\u001b[0;31mNameError\u001b[0m: name 'df_copy' is not defined"
     ]
    }
   ],
   "source": [
    "# Список для хранения координат\n",
    "coordinates_list = []\n",
    "\n",
    "for i in tqdm(range(100)):\n",
    "    if df_copy['Адрес'][i] not in coordinates_list:\n",
    "        k = df_copy['Адрес'][i]\n",
    "        # Формируем запрос к API Photon\n",
    "        response = requests.get(f'https://photon.komoot.io/api/?q={k}')\n",
    "    \n",
    "        # Проверяем статус ответа\n",
    "        if response.status_code == 200:\n",
    "            data = response.json()\n",
    "            # Извлекаем координаты первого результата\n",
    "            features = data.get('features')\n",
    "            if features:\n",
    "                coordinates = features[0].get('geometry').get('coordinates')\n",
    "                coordinates_list.append({k: coordinates})\n",
    "            else:\n",
    "                coordinates_list.append((None, None))\n",
    "        else:\n",
    "            coordinates_list.append((None, None))\n",
    "    else:\n",
    "        pass\n",
    "\n",
    "print(coordinates_list)\n"
   ]
  },
  {
   "cell_type": "code",
   "execution_count": 22,
   "id": "a4ac7233",
   "metadata": {},
   "outputs": [
    {
     "ename": "NameError",
     "evalue": "name 'df_copy' is not defined",
     "output_type": "error",
     "traceback": [
      "\u001b[0;31m---------------------------------------------------------------------------\u001b[0m",
      "\u001b[0;31mNameError\u001b[0m                                 Traceback (most recent call last)",
      "Input \u001b[0;32mIn [22]\u001b[0m, in \u001b[0;36m<cell line: 1>\u001b[0;34m()\u001b[0m\n\u001b[0;32m----> 1\u001b[0m \u001b[38;5;28;01mfor\u001b[39;00m j \u001b[38;5;129;01min\u001b[39;00m tqdm(\u001b[38;5;28mrange\u001b[39m(\u001b[43mdf_copy\u001b[49m\u001b[38;5;241m.\u001b[39mshape[\u001b[38;5;241m0\u001b[39m])):\n\u001b[1;32m      2\u001b[0m     df_copy[\u001b[38;5;124m'\u001b[39m\u001b[38;5;124mАдрес\u001b[39m\u001b[38;5;124m'\u001b[39m][j]\u001b[38;5;241m=\u001b[39m \u001b[38;5;124m'\u001b[39m\u001b[38;5;124m, \u001b[39m\u001b[38;5;124m'\u001b[39m\u001b[38;5;241m.\u001b[39mjoin(df_copy[\u001b[38;5;124m'\u001b[39m\u001b[38;5;124mАдрес\u001b[39m\u001b[38;5;124m'\u001b[39m][j]\u001b[38;5;241m.\u001b[39msplit(\u001b[38;5;124m'\u001b[39m\u001b[38;5;124m, \u001b[39m\u001b[38;5;124m'\u001b[39m)[:\u001b[38;5;241m-\u001b[39m\u001b[38;5;241m1\u001b[39m])\n\u001b[1;32m      3\u001b[0m df_copy\n",
      "\u001b[0;31mNameError\u001b[0m: name 'df_copy' is not defined"
     ]
    }
   ],
   "source": [
    "for j in tqdm(range(df_copy.shape[0])):\n",
    "    df_copy['Адрес'][j]= ', '.join(df_copy['Адрес'][j].split(', ')[:-1])\n",
    "df_copy"
   ]
  },
  {
   "cell_type": "code",
   "execution_count": null,
   "id": "cc0711bd",
   "metadata": {},
   "outputs": [],
   "source": []
  }
 ],
 "metadata": {
  "kernelspec": {
   "display_name": "Python 3 (ipykernel)",
   "language": "python",
   "name": "python3"
  },
  "language_info": {
   "codemirror_mode": {
    "name": "ipython",
    "version": 3
   },
   "file_extension": ".py",
   "mimetype": "text/x-python",
   "name": "python",
   "nbconvert_exporter": "python",
   "pygments_lexer": "ipython3",
   "version": "3.9.12"
  }
 },
 "nbformat": 4,
 "nbformat_minor": 5
}
