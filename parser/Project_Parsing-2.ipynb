{
 "cells": [
  {
   "cell_type": "code",
   "execution_count": 2,
   "id": "8d7b1310",
   "metadata": {},
   "outputs": [],
   "source": [
    "import pandas as pd\n",
    "import numpy as np\n",
    "import matplotlib.pyplot as plt\n",
    "import seaborn as sns\n",
    "import scipy.stats as sts\n",
    "from tqdm.notebook import tqdm"
   ]
  },
  {
   "cell_type": "code",
   "execution_count": 394,
   "id": "761428ed",
   "metadata": {},
   "outputs": [
    {
     "data": {
      "text/plain": [
       "<Response [200]>"
      ]
     },
     "execution_count": 394,
     "metadata": {},
     "output_type": "execute_result"
    }
   ],
   "source": [
    "#Проверка связи с источником\n",
    "import requests  \n",
    "\n",
    "url = 'https://domclick.ru/search?deal_type=sale&category=living&offer_type=flat&offer_type=layout&aids=2299&sale_price__lte=20000000&offset=0'\n",
    "response = requests.get(url)\n",
    "response"
   ]
  },
  {
   "cell_type": "markdown",
   "id": "23b1bce7",
   "metadata": {},
   "source": [
    "Поскольку код сайта достаточно массивный и запутанный, некоторые данные не представляется возможным вытаскивать напрямую. В связи с этим, создадим функцию, которая будет преобразовывать получаемые строки в нужный нам вид."
   ]
  },
  {
   "cell_type": "code",
   "execution_count": 136,
   "id": "54200074",
   "metadata": {},
   "outputs": [
    {
     "data": {
      "text/plain": [
       "'9 012 283 ₽'"
      ]
     },
     "execution_count": 136,
     "metadata": {},
     "output_type": "execute_result"
    }
   ],
   "source": [
    "def convertor(strings):\n",
    "    strings = str(strings)\n",
    "    st = strings.split('>')\n",
    "    strings = st[1].split('<')[0]\n",
    "    return strings\n",
    "#text = '<p class=\"_5oAgZI Z4r7pA\">9 012 283 ₽</p' # Можно запустить код и посмотреть, как он работает на примере\n",
    "#convertor(text)"
   ]
  },
  {
   "cell_type": "markdown",
   "id": "4887fb18",
   "metadata": {},
   "source": [
    "Так, следующая ячейка создаст разочарование на лице проверяющего и сильное желание снизить балл за красоту или ещё что-нибудь) \n",
    "\n",
    "Собственно, эти ссылки затрагивают все страницы, из которых в дальнейшем будут парситься данные. \n",
    "\n",
    "У ассиста возникает логичный вопрос: что ж ты, тупая башка, просто не закинул их в функцию, где спокойно бы менял запросы???\n",
    "    \n",
    "    \n",
    "Объясняю) Дело в том, что маркетологи ДомКлика - ребята с приколом. Когда ты выставляешь фильтр на минимальную цену квартиры, условно, в 10 миллионов рублей, тебе сначала выдадут предложений 300, где цена будет \"ОТ 7-9 миллионов\". В связи с этим возникает перехлёст данных и вероятность дубликатов. \n",
    "\n",
    "Так что для каждой ссылки мы ручками подбирали номер страницы, начиная с которой предложения идут реально от выбранной цены.\n",
    "\n",
    "Поэтому просим понять и пхростить!"
   ]
  },
  {
   "cell_type": "code",
   "execution_count": 408,
   "id": "658992a9",
   "metadata": {},
   "outputs": [],
   "source": [
    "url_0 = 'https://domclick.ru/search?deal_type=sale&category=living&offer_type=flat&offer_type=layout&aids=2299&sale_price__lte=20000000&sort=price&sort_dir=asc&offset={}'\n",
    "url_1 = 'https://domclick.ru/search?deal_type=sale&category=living&offer_type=flat&offer_type=layout&aids=2299&sale_price__lte=20000000&utm_referrer=https%3A%2F%2Fdomclick.ru%2Fauth%2FloginPage&sort=price&sort_dir=asc&sale_price__gte=6950000&offset={}'\n",
    "url_2 = 'https://domclick.ru/search?deal_type=sale&category=living&offer_type=flat&offer_type=layout&aids=2299&sale_price__lte=20000000&utm_referrer=https%3A%2F%2Fdomclick.ru%2Fauth%2FloginPage&sort=price&sort_dir=asc&sale_price__gte=8150000&offset={}'\n",
    "url_3 = 'https://domclick.ru/search?deal_type=sale&category=living&offer_type=flat&offer_type=layout&aids=2299&sale_price__lte=20000000&utm_referrer=https%3A%2F%2Fdomclick.ru%2Fauth%2FloginPage&sort=price&sort_dir=asc&sale_price__gte=8950000&offset={}'\n",
    "url_4 = 'https://domclick.ru/search?deal_type=sale&category=living&offer_type=flat&offer_type=layout&aids=2299&sale_price__lte=20000000&utm_referrer=https%3A%2F%2Fdomclick.ru%2Fauth%2FloginPage&sort=price&sort_dir=asc&sale_price__gte=9650000&offset={}'\n",
    "url_5 = 'https://domclick.ru/search?deal_type=sale&category=living&offer_type=flat&offer_type=layout&aids=2299&sale_price__lte=20000000&utm_referrer=https%3A%2F%2Fdomclick.ru%2Fauth%2FloginPage&sort=price&sort_dir=asc&sale_price__gte=10250000&offset={}'\n",
    "url_6 = 'https://domclick.ru/search?deal_type=sale&category=living&offer_type=flat&offer_type=layout&aids=2299&sale_price__lte=20000000&utm_referrer=https%3A%2F%2Fdomclick.ru%2Fauth%2FloginPage&sort=price&sort_dir=asc&sale_price__gte=10850000&offset={}'\n",
    "url_7 = 'https://domclick.ru/search?deal_type=sale&category=living&offer_type=flat&offer_type=layout&aids=2299&sale_price__lte=20000000&utm_referrer=https%3A%2F%2Fdomclick.ru%2Fauth%2FloginPage&sort=price&sort_dir=asc&sale_price__gte=11450000&offset={}'\n",
    "url_8 = 'https://domclick.ru/search?deal_type=sale&category=living&offer_type=flat&offer_type=layout&aids=2299&sale_price__lte=20000000&utm_referrer=https%3A%2F%2Fdomclick.ru%2Fauth%2FloginPage&sort=price&sort_dir=asc&sale_price__gte=12000000&offset={}'\n",
    "url_9 = 'https://domclick.ru/search?deal_type=sale&category=living&offer_type=flat&offer_type=layout&aids=2299&sale_price__lte=20000000&utm_referrer=https%3A%2F%2Fdomclick.ru%2Fauth%2FloginPage&sort=price&sort_dir=asc&sale_price__gte=12550000&offset={}'\n",
    "url_10 = 'https://domclick.ru/search?deal_type=sale&category=living&offer_type=flat&offer_type=layout&aids=2299&sale_price__lte=20000000&utm_referrer=https%3A%2F%2Fdomclick.ru%2Fauth%2FloginPage&sort=price&sort_dir=asc&sale_price__gte=13190000&offset={}'\n",
    "url_11 = 'https://domclick.ru/search?deal_type=sale&category=living&offer_type=flat&offer_type=layout&aids=2299&sale_price__lte=20000000&utm_referrer=https%3A%2F%2Fdomclick.ru%2Fauth%2FloginPage&sort=price&sort_dir=asc&sale_price__gte=13840000&offset={}'\n",
    "url_12 = 'https://domclick.ru/search?deal_type=sale&category=living&offer_type=flat&offer_type=layout&aids=2299&sale_price__lte=20000000&utm_referrer=https%3A%2F%2Fdomclick.ru%2Fauth%2FloginPage&sort=price&sort_dir=asc&sale_price__gte=14510000&offset={}'\n",
    "url_13 = 'https://domclick.ru/search?deal_type=sale&category=living&offer_type=flat&offer_type=layout&aids=2299&sale_price__lte=20000000&utm_referrer=https%3A%2F%2Fdomclick.ru%2Fauth%2FloginPage&sort=price&sort_dir=asc&sale_price__gte=15260000&offset={}'\n",
    "url_14 = 'https://domclick.ru/search?deal_type=sale&category=living&offer_type=flat&offer_type=layout&aids=2299&sale_price__lte=20000000&utm_referrer=https%3A%2F%2Fdomclick.ru%2Fauth%2FloginPage&sort=price&sort_dir=asc&sale_price__gte=16010000&offset={}'\n",
    "url_15 = 'https://domclick.ru/search?deal_type=sale&category=living&offer_type=flat&offer_type=layout&aids=2299&sale_price__lte=20000000&utm_referrer=https%3A%2F%2Fdomclick.ru%2Fauth%2FloginPage&sort=price&sort_dir=asc&sale_price__gte=16920000&offset={}'\n",
    "url_16 = 'https://domclick.ru/search?deal_type=sale&category=living&offer_type=flat&offer_type=layout&aids=2299&sale_price__lte=20000000&utm_referrer=https%3A%2F%2Fdomclick.ru%2Fauth%2FloginPage&sort=price&sort_dir=asc&sale_price__gte=17900000&offset={}'\n",
    "url_17 = 'https://domclick.ru/search?deal_type=sale&category=living&offer_type=flat&offer_type=layout&aids=2299&sale_price__lte=20000000&utm_referrer=https%3A%2F%2Fdomclick.ru%2Fauth%2FloginPage&sort=price&sort_dir=asc&sale_price__gte=18925000&offset={}'\n"
   ]
  },
  {
   "cell_type": "markdown",
   "id": "038e7c68",
   "metadata": {},
   "source": [
    "Теперь можем создать функцию от 2-х переменных, с помощью которой будет парсить наши данные:"
   ]
  },
  {
   "cell_type": "code",
   "execution_count": 410,
   "id": "17298e88",
   "metadata": {},
   "outputs": [],
   "source": [
    "from bs4 import BeautifulSoup\n",
    "\n",
    "def get_page(url, p):\n",
    "    \n",
    "    url = url.format(p) # переходим по ссылке\n",
    "    \n",
    "    response = requests.get(url)\n",
    "    \n",
    "    tree = BeautifulSoup(response.content, 'html.parser') # строим дерево\n",
    "    \n",
    "    # находи в нём все необходимые параметры\n",
    "    flats = tree.find_all('span', {'class' : '_6KKuHL iaB6kz'})\n",
    "    flats_price = tree.find_all('p', {'class' : '_5oAgZI Z4r7pA'})\n",
    "    flats_adress = tree.find_all('span', {'class' : 'S4xsAI'})\n",
    "    info = []\n",
    "    \n",
    "    for f in range(len(flats)):\n",
    "        if f%3 == 0:\n",
    "            f_st_0 = convertor(flats[f])\n",
    "        elif f%3 == 1:\n",
    "            f_st_1 = convertor(flats[f])\n",
    "        elif f%3 == 2:\n",
    "            info.append({'Тип': f_st_0,\n",
    "                     'Площадь': f_st_1,\n",
    "                     'Этаж': convertor(flats[f]),\n",
    "                    'Стоимость': convertor(flats_price[f//3]),\n",
    "                         'Адрес': convertor(flats_adress[f//3])})\n",
    "    return info"
   ]
  },
  {
   "cell_type": "code",
   "execution_count": 409,
   "id": "0edac9cd",
   "metadata": {},
   "outputs": [
    {
     "name": "stdout",
     "output_type": "stream",
     "text": [
      "[<p class=\"_5oAgZI Z4r7pA\">19 000 000 ₽</p>, <p class=\"_5oAgZI Z4r7pA\">19 000 000 ₽</p>, <p class=\"_5oAgZI Z4r7pA\">19 000 000 ₽</p>, <p class=\"_5oAgZI Z4r7pA\">19 000 000 ₽</p>, <p class=\"_5oAgZI Z4r7pA\">19 000 000 ₽</p>, <p class=\"_5oAgZI Z4r7pA\">19 000 000 ₽</p>, <p class=\"_5oAgZI Z4r7pA\">19 000 000 ₽</p>, <p class=\"_5oAgZI Z4r7pA\">19 000 000 ₽</p>, <p class=\"_5oAgZI Z4r7pA\">19 000 000 ₽</p>, <p class=\"_5oAgZI Z4r7pA\">19 000 000 ₽</p>, <p class=\"_5oAgZI Z4r7pA\">19 000 000 ₽</p>, <p class=\"_5oAgZI Z4r7pA\">19 000 000 ₽</p>, <p class=\"_5oAgZI Z4r7pA\">19 000 000 ₽</p>, <p class=\"_5oAgZI Z4r7pA\">19 000 000 ₽</p>, <p class=\"_5oAgZI Z4r7pA\">19 000 000 ₽</p>, <p class=\"_5oAgZI Z4r7pA\">19 000 000 ₽</p>, <p class=\"_5oAgZI Z4r7pA\">19 000 000 ₽</p>, <p class=\"_5oAgZI Z4r7pA\">19 000 000 ₽</p>, <p class=\"_5oAgZI Z4r7pA\">19 000 000 ₽</p>, <p class=\"_5oAgZI Z4r7pA\">19 000 000 ₽</p>]\n"
     ]
    },
    {
     "data": {
      "text/plain": [
       "[{'Тип': '2-комн. апартаменты',\n",
       "  'Площадь': '54,29 м²',\n",
       "  'Этаж': '8/21 эт.',\n",
       "  'Стоимость': '19 000 000 ₽',\n",
       "  'Адрес': 'Москва, Автомобильный проезд, 4'},\n",
       " {'Тип': '1-комн. квартира',\n",
       "  'Площадь': '37,7 м²',\n",
       "  'Этаж': '24/29 эт.',\n",
       "  'Стоимость': '19 000 000 ₽',\n",
       "  'Адрес': 'Москва, Аминьевское шоссе, 4Дк2'},\n",
       " {'Тип': '3-комн. квартира',\n",
       "  'Площадь': '76 м²',\n",
       "  'Этаж': '3/8 эт.',\n",
       "  'Стоимость': '19 000 000 ₽',\n",
       "  'Адрес': 'Москва, Бутырская улица, 53к1'},\n",
       " {'Тип': '1-комн. квартира',\n",
       "  'Площадь': '48,1 м²',\n",
       "  'Этаж': '2/24 эт.',\n",
       "  'Стоимость': '19 000 000 ₽',\n",
       "  'Адрес': 'Москва, улица Маршала Тухачевского, 49'},\n",
       " {'Тип': '3-комн. квартира',\n",
       "  'Площадь': '96 м²',\n",
       "  'Этаж': '3/19 эт.',\n",
       "  'Стоимость': '19 000 000 ₽',\n",
       "  'Адрес': 'Москва, Московский, 3-й микрорайон, 13'},\n",
       " {'Тип': '3-комн. квартира',\n",
       "  'Площадь': '77 м²',\n",
       "  'Этаж': '12/17 эт.',\n",
       "  'Стоимость': '19 000 000 ₽',\n",
       "  'Адрес': 'Москва, улица Грина, 24'},\n",
       " {'Тип': '2-комн. квартира',\n",
       "  'Площадь': '56 м²',\n",
       "  'Этаж': '5/6 эт.',\n",
       "  'Стоимость': '19 000 000 ₽',\n",
       "  'Адрес': 'Москва, улица Лапина, 3'},\n",
       " {'Тип': '4-комн. квартира',\n",
       "  'Площадь': '108,2 м²',\n",
       "  'Этаж': '17/17 эт.',\n",
       "  'Стоимость': '19 000 000 ₽',\n",
       "  'Адрес': 'Москва, Троицк, Нагорная улица, 6'},\n",
       " {'Тип': '2-комн. квартира',\n",
       "  'Площадь': '67 м²',\n",
       "  'Этаж': '2/5 эт.',\n",
       "  'Стоимость': '19 000 000 ₽',\n",
       "  'Адрес': 'Москва, улица Маршала Бирюзова, 41'},\n",
       " {'Тип': '1-комн. квартира',\n",
       "  'Площадь': '35,6 м²',\n",
       "  'Этаж': '6/15 эт.',\n",
       "  'Стоимость': '19 000 000 ₽',\n",
       "  'Адрес': 'Москва, улица Родченко, 2'},\n",
       " {'Тип': '3-комн. квартира',\n",
       "  'Площадь': '64 м²',\n",
       "  'Этаж': '4/9 эт.',\n",
       "  'Стоимость': '19 000 000 ₽',\n",
       "  'Адрес': 'Москва, 8-я улица Соколиной Горы, 7'},\n",
       " {'Тип': '3-комн. квартира',\n",
       "  'Площадь': '73 м²',\n",
       "  'Этаж': '8/17 эт.',\n",
       "  'Стоимость': '19 000 000 ₽',\n",
       "  'Адрес': 'Москва, улица Барышиха, 40к1'},\n",
       " {'Тип': '2-комн. квартира',\n",
       "  'Площадь': '38 м²',\n",
       "  'Этаж': '4/30 эт.',\n",
       "  'Стоимость': '19 000 000 ₽',\n",
       "  'Адрес': 'Москва, улица Петра Алексеева, 14'},\n",
       " {'Тип': '3-комн. квартира',\n",
       "  'Площадь': '68,9 м²',\n",
       "  'Этаж': '14/16 эт.',\n",
       "  'Стоимость': '19 000 000 ₽',\n",
       "  'Адрес': 'Москва, Юрьевский переулок, 16к2'},\n",
       " {'Тип': '3-комн. квартира',\n",
       "  'Площадь': '75 м²',\n",
       "  'Этаж': '3/4 эт.',\n",
       "  'Стоимость': '19 000 000 ₽',\n",
       "  'Адрес': 'Москва, Малая Ботаническая улица, 13'},\n",
       " {'Тип': '2-комн. квартира',\n",
       "  'Площадь': '49 м²',\n",
       "  'Этаж': '8/8 эт.',\n",
       "  'Стоимость': '19 000 000 ₽',\n",
       "  'Адрес': 'Москва, Ленинский проспект, 85'},\n",
       " {'Тип': '1-комн. квартира',\n",
       "  'Площадь': '43,3 м²',\n",
       "  'Этаж': '7/16 эт.',\n",
       "  'Стоимость': '19 000 000 ₽',\n",
       "  'Адрес': 'Москва, Шереметьевская улица, 13к1'},\n",
       " {'Тип': '3-комн. квартира',\n",
       "  'Площадь': '63,4 м²',\n",
       "  'Этаж': '6/9 эт.',\n",
       "  'Стоимость': '19 000 000 ₽',\n",
       "  'Адрес': 'Москва, Профсоюзная улица, 85к1'},\n",
       " {'Тип': '1-комн. квартира',\n",
       "  'Площадь': '41 м²',\n",
       "  'Этаж': '7/27 эт.',\n",
       "  'Стоимость': '19 000 000 ₽',\n",
       "  'Адрес': 'Москва, улица Зорге, 9к2'},\n",
       " {'Тип': '3-комн. квартира',\n",
       "  'Площадь': '64 м²',\n",
       "  'Этаж': '4/9 эт.',\n",
       "  'Стоимость': '19 000 000 ₽',\n",
       "  'Адрес': 'Москва, 8-я улица Соколиной Горы, 7'}]"
      ]
     },
     "execution_count": 409,
     "metadata": {},
     "output_type": "execute_result"
    }
   ],
   "source": [
    "get_page(url_17, 380)"
   ]
  },
  {
   "cell_type": "markdown",
   "id": "e72b3209",
   "metadata": {},
   "source": [
    "Теперь проходимся циклом по страницам и закидываем найденные данные в списки, которые далее конвертируем в табличку.\n",
    "\n",
    "Тут второй момент, когда гремаса ассиста переходит в скупую слезу из-за большого количества строк) Конечно, можно было бы всё сделать в одной ячейке, но, во-первых, это тоже не сильно приятно глазу и по стандарту PEP-8, длина строки не может превышать 72 символов, а во-вторых, так легче искать косяки. Не бейте"
   ]
  },
  {
   "cell_type": "code",
   "execution_count": 411,
   "id": "2f9bafc0",
   "metadata": {},
   "outputs": [
    {
     "data": {
      "application/vnd.jupyter.widget-view+json": {
       "model_id": "05697e7944db4b7a811e621cc3332f28",
       "version_major": 2,
       "version_minor": 0
      },
      "text/plain": [
       "  0%|          | 0/100 [00:00<?, ?it/s]"
      ]
     },
     "metadata": {},
     "output_type": "display_data"
    }
   ],
   "source": [
    "info_0 = [] \n",
    "\n",
    "for p in tqdm(range(0,1981,20)):\n",
    "    info_0.extend(get_page(url_0,p))\n"
   ]
  },
  {
   "cell_type": "code",
   "execution_count": 474,
   "id": "e8d7a313",
   "metadata": {},
   "outputs": [
    {
     "name": "stdout",
     "output_type": "stream",
     "text": [
      "(2000, 5)\n"
     ]
    },
    {
     "data": {
      "text/html": [
       "<div>\n",
       "<style scoped>\n",
       "    .dataframe tbody tr th:only-of-type {\n",
       "        vertical-align: middle;\n",
       "    }\n",
       "\n",
       "    .dataframe tbody tr th {\n",
       "        vertical-align: top;\n",
       "    }\n",
       "\n",
       "    .dataframe thead th {\n",
       "        text-align: right;\n",
       "    }\n",
       "</style>\n",
       "<table border=\"1\" class=\"dataframe\">\n",
       "  <thead>\n",
       "    <tr style=\"text-align: right;\">\n",
       "      <th></th>\n",
       "      <th>Тип</th>\n",
       "      <th>Площадь</th>\n",
       "      <th>Этаж</th>\n",
       "      <th>Стоимость</th>\n",
       "      <th>Адрес</th>\n",
       "    </tr>\n",
       "  </thead>\n",
       "  <tbody>\n",
       "    <tr>\n",
       "      <th>0</th>\n",
       "      <td>Студия</td>\n",
       "      <td>10 м²</td>\n",
       "      <td>1/3 эт.</td>\n",
       "      <td>1 049 000 ₽</td>\n",
       "      <td>Москва, поселение Первомайское, деревня Иванов...</td>\n",
       "    </tr>\n",
       "    <tr>\n",
       "      <th>1</th>\n",
       "      <td>Студия</td>\n",
       "      <td>10 м²</td>\n",
       "      <td>1/3 эт.</td>\n",
       "      <td>1 150 000 ₽</td>\n",
       "      <td>Москва, поселение Первомайское, деревня Иванов...</td>\n",
       "    </tr>\n",
       "    <tr>\n",
       "      <th>2</th>\n",
       "      <td>Апартаменты-студия</td>\n",
       "      <td>11,7 м²</td>\n",
       "      <td>1/16 эт.</td>\n",
       "      <td>1 500 000 ₽</td>\n",
       "      <td>Москва, Юго-Восточный административный округ, ...</td>\n",
       "    </tr>\n",
       "    <tr>\n",
       "      <th>3</th>\n",
       "      <td>Апартаменты-студия</td>\n",
       "      <td>15,3 м²</td>\n",
       "      <td>1/16 эт.</td>\n",
       "      <td>1 590 000 ₽</td>\n",
       "      <td>Москва, Волжский бульвар, 19</td>\n",
       "    </tr>\n",
       "    <tr>\n",
       "      <th>4</th>\n",
       "      <td>Апартаменты-студия</td>\n",
       "      <td>13 м²</td>\n",
       "      <td>1/3 эт.</td>\n",
       "      <td>1 650 000 ₽</td>\n",
       "      <td>Москва, посёлок Первомайское, Центральная улиц...</td>\n",
       "    </tr>\n",
       "  </tbody>\n",
       "</table>\n",
       "</div>"
      ],
      "text/plain": [
       "                  Тип  Площадь      Этаж    Стоимость  \\\n",
       "0              Студия    10 м²   1/3 эт.  1 049 000 ₽   \n",
       "1              Студия    10 м²   1/3 эт.  1 150 000 ₽   \n",
       "2  Апартаменты-студия  11,7 м²  1/16 эт.  1 500 000 ₽   \n",
       "3  Апартаменты-студия  15,3 м²  1/16 эт.  1 590 000 ₽   \n",
       "4  Апартаменты-студия    13 м²   1/3 эт.  1 650 000 ₽   \n",
       "\n",
       "                                               Адрес  \n",
       "0  Москва, поселение Первомайское, деревня Иванов...  \n",
       "1  Москва, поселение Первомайское, деревня Иванов...  \n",
       "2  Москва, Юго-Восточный административный округ, ...  \n",
       "3                       Москва, Волжский бульвар, 19  \n",
       "4  Москва, посёлок Первомайское, Центральная улиц...  "
      ]
     },
     "execution_count": 474,
     "metadata": {},
     "output_type": "execute_result"
    }
   ],
   "source": [
    "import pandas as pd\n",
    "\n",
    "df_0 = pd.DataFrame(info_0)\n",
    "print(df_0.shape)\n",
    "df_0.head()"
   ]
  },
  {
   "cell_type": "code",
   "execution_count": 413,
   "id": "b8338cee",
   "metadata": {},
   "outputs": [
    {
     "data": {
      "application/vnd.jupyter.widget-view+json": {
       "model_id": "3a83646ac0cf4b0fbd504bce10da61a4",
       "version_major": 2,
       "version_minor": 0
      },
      "text/plain": [
       "  0%|          | 0/94 [00:00<?, ?it/s]"
      ]
     },
     "metadata": {},
     "output_type": "display_data"
    }
   ],
   "source": [
    "info_1 = [] \n",
    "\n",
    "for p in tqdm(range(120,1981,20)):\n",
    "    info_1.extend(get_page(url_1,p))\n",
    "\n",
    "df_1 = pd.DataFrame(info_1)"
   ]
  },
  {
   "cell_type": "code",
   "execution_count": 414,
   "id": "f8b548f5",
   "metadata": {},
   "outputs": [
    {
     "data": {
      "application/vnd.jupyter.widget-view+json": {
       "model_id": "bbbcdad954484c9abd45acb08b26518d",
       "version_major": 2,
       "version_minor": 0
      },
      "text/plain": [
       "  0%|          | 0/89 [00:00<?, ?it/s]"
      ]
     },
     "metadata": {},
     "output_type": "display_data"
    }
   ],
   "source": [
    "info_2 = [] \n",
    "\n",
    "for p in tqdm(range(220,1981,20)):\n",
    "    info_2.extend(get_page(url_2,p))\n",
    "    \n",
    "df_2 = pd.DataFrame(info_2)"
   ]
  },
  {
   "cell_type": "code",
   "execution_count": 415,
   "id": "f8ea7629",
   "metadata": {},
   "outputs": [
    {
     "data": {
      "application/vnd.jupyter.widget-view+json": {
       "model_id": "9dec0f7a53084fbeae9132704c537d1b",
       "version_major": 2,
       "version_minor": 0
      },
      "text/plain": [
       "  0%|          | 0/86 [00:00<?, ?it/s]"
      ]
     },
     "metadata": {},
     "output_type": "display_data"
    }
   ],
   "source": [
    "info_3 = [] \n",
    "\n",
    "for p in tqdm(range(280,1981,20)):\n",
    "    info_3.extend(get_page(url_3,p))\n",
    "\n",
    "df_3 = pd.DataFrame(info_3)"
   ]
  },
  {
   "cell_type": "code",
   "execution_count": 416,
   "id": "bfcbbff2",
   "metadata": {},
   "outputs": [
    {
     "data": {
      "application/vnd.jupyter.widget-view+json": {
       "model_id": "9be9699fc9fc4255afb332de7ce9c1c7",
       "version_major": 2,
       "version_minor": 0
      },
      "text/plain": [
       "  0%|          | 0/85 [00:00<?, ?it/s]"
      ]
     },
     "metadata": {},
     "output_type": "display_data"
    }
   ],
   "source": [
    "info_4 = [] \n",
    "\n",
    "for p in tqdm(range(300,1981,20)):\n",
    "    info_4.extend(get_page(url_4,p))\n",
    "    \n",
    "df_4 = pd.DataFrame(info_4)"
   ]
  },
  {
   "cell_type": "code",
   "execution_count": 417,
   "id": "83435a56",
   "metadata": {},
   "outputs": [
    {
     "data": {
      "application/vnd.jupyter.widget-view+json": {
       "model_id": "c9dec89990344a0a9ef3501bd388876e",
       "version_major": 2,
       "version_minor": 0
      },
      "text/plain": [
       "  0%|          | 0/83 [00:00<?, ?it/s]"
      ]
     },
     "metadata": {},
     "output_type": "display_data"
    }
   ],
   "source": [
    "info_5 = [] \n",
    "\n",
    "for p in tqdm(range(340,1981,20)):\n",
    "    info_5.extend(get_page(url_5,p))\n",
    "df_5 = pd.DataFrame(info_5)"
   ]
  },
  {
   "cell_type": "code",
   "execution_count": 418,
   "id": "f5257404",
   "metadata": {},
   "outputs": [
    {
     "data": {
      "application/vnd.jupyter.widget-view+json": {
       "model_id": "0e6c56baf5154a618ef0de69d2a34caa",
       "version_major": 2,
       "version_minor": 0
      },
      "text/plain": [
       "  0%|          | 0/81 [00:00<?, ?it/s]"
      ]
     },
     "metadata": {},
     "output_type": "display_data"
    }
   ],
   "source": [
    "info_6 = [] \n",
    "\n",
    "for p in tqdm(range(380,1981,20)):\n",
    "    info_6.extend(get_page(url_6,p))\n",
    "    \n",
    "df_6 = pd.DataFrame(info_6)"
   ]
  },
  {
   "cell_type": "code",
   "execution_count": 419,
   "id": "ad022f0c",
   "metadata": {},
   "outputs": [
    {
     "data": {
      "application/vnd.jupyter.widget-view+json": {
       "model_id": "29a2ba1a195946478c363adb52cef423",
       "version_major": 2,
       "version_minor": 0
      },
      "text/plain": [
       "  0%|          | 0/83 [00:00<?, ?it/s]"
      ]
     },
     "metadata": {},
     "output_type": "display_data"
    }
   ],
   "source": [
    "info_7 = [] \n",
    "\n",
    "for p in tqdm(range(340,1981,20)):\n",
    "    info_7.extend(get_page(url_7,p))\n",
    "df_7 = pd.DataFrame(info_7)"
   ]
  },
  {
   "cell_type": "code",
   "execution_count": 420,
   "id": "42eec752",
   "metadata": {},
   "outputs": [
    {
     "data": {
      "application/vnd.jupyter.widget-view+json": {
       "model_id": "5a6a49dc458f425a886960479e18375f",
       "version_major": 2,
       "version_minor": 0
      },
      "text/plain": [
       "  0%|          | 0/82 [00:00<?, ?it/s]"
      ]
     },
     "metadata": {},
     "output_type": "display_data"
    }
   ],
   "source": [
    "info_8 = [] \n",
    "\n",
    "for p in tqdm(range(360,1981,20)):\n",
    "    info_8.extend(get_page(url_8,p))\n",
    "df_8 = pd.DataFrame(info_8)"
   ]
  },
  {
   "cell_type": "code",
   "execution_count": 421,
   "id": "b837e019",
   "metadata": {},
   "outputs": [
    {
     "data": {
      "application/vnd.jupyter.widget-view+json": {
       "model_id": "816ea2a18d944a70825db43f7c29bb30",
       "version_major": 2,
       "version_minor": 0
      },
      "text/plain": [
       "  0%|          | 0/82 [00:00<?, ?it/s]"
      ]
     },
     "metadata": {},
     "output_type": "display_data"
    }
   ],
   "source": [
    "info_9 = [] \n",
    "\n",
    "for p in tqdm(range(360,1981,20)):\n",
    "    info_9.extend(get_page(url_9,p))\n",
    "df_9 = pd.DataFrame(info_9)"
   ]
  },
  {
   "cell_type": "code",
   "execution_count": 422,
   "id": "40393f99",
   "metadata": {},
   "outputs": [
    {
     "data": {
      "application/vnd.jupyter.widget-view+json": {
       "model_id": "8f09ccfcc6294b4cb33b49ff6fd376d4",
       "version_major": 2,
       "version_minor": 0
      },
      "text/plain": [
       "  0%|          | 0/82 [00:00<?, ?it/s]"
      ]
     },
     "metadata": {},
     "output_type": "display_data"
    }
   ],
   "source": [
    "info_10 = [] \n",
    "\n",
    "for p in tqdm(range(360,1981,20)):\n",
    "    info_10.extend(get_page(url_10,p))\n",
    "df_10 = pd.DataFrame(info_10)"
   ]
  },
  {
   "cell_type": "code",
   "execution_count": 423,
   "id": "f74c0ca1",
   "metadata": {},
   "outputs": [
    {
     "data": {
      "application/vnd.jupyter.widget-view+json": {
       "model_id": "9019ace2d03946049f162764479abdbc",
       "version_major": 2,
       "version_minor": 0
      },
      "text/plain": [
       "  0%|          | 0/84 [00:00<?, ?it/s]"
      ]
     },
     "metadata": {},
     "output_type": "display_data"
    }
   ],
   "source": [
    "info_11 = [] \n",
    "\n",
    "for p in tqdm(range(320,1981,20)):\n",
    "    info_11.extend(get_page(url_11,p))\n",
    "df_11 = pd.DataFrame(info_11)"
   ]
  },
  {
   "cell_type": "code",
   "execution_count": 424,
   "id": "42589075",
   "metadata": {},
   "outputs": [
    {
     "data": {
      "application/vnd.jupyter.widget-view+json": {
       "model_id": "4af3d977a71c4a2fadcbf8003fe34206",
       "version_major": 2,
       "version_minor": 0
      },
      "text/plain": [
       "  0%|          | 0/83 [00:00<?, ?it/s]"
      ]
     },
     "metadata": {},
     "output_type": "display_data"
    }
   ],
   "source": [
    "info_12 = [] \n",
    "\n",
    "for p in tqdm(range(340,1981,20)):\n",
    "    info_12.extend(get_page(url_12,p))\n",
    "df_12 = pd.DataFrame(info_12)"
   ]
  },
  {
   "cell_type": "code",
   "execution_count": 425,
   "id": "e3e5d16e",
   "metadata": {},
   "outputs": [
    {
     "data": {
      "application/vnd.jupyter.widget-view+json": {
       "model_id": "00b5cdd5b19c4637a579d888387a146a",
       "version_major": 2,
       "version_minor": 0
      },
      "text/plain": [
       "  0%|          | 0/84 [00:00<?, ?it/s]"
      ]
     },
     "metadata": {},
     "output_type": "display_data"
    }
   ],
   "source": [
    "info_13 = [] \n",
    "\n",
    "for p in tqdm(range(320,1981,20)):\n",
    "    info_13.extend(get_page(url_13,p))\n",
    "df_13 = pd.DataFrame(info_13)"
   ]
  },
  {
   "cell_type": "code",
   "execution_count": 426,
   "id": "583e5480",
   "metadata": {},
   "outputs": [
    {
     "data": {
      "application/vnd.jupyter.widget-view+json": {
       "model_id": "ba1e3244049048c48649eed178d3b588",
       "version_major": 2,
       "version_minor": 0
      },
      "text/plain": [
       "  0%|          | 0/85 [00:00<?, ?it/s]"
      ]
     },
     "metadata": {},
     "output_type": "display_data"
    }
   ],
   "source": [
    "info_14 = [] \n",
    "\n",
    "for p in tqdm(range(300,1981,20)):\n",
    "    info_14.extend(get_page(url_14,p))\n",
    "df_14 = pd.DataFrame(info_14)"
   ]
  },
  {
   "cell_type": "code",
   "execution_count": 427,
   "id": "f4cac398",
   "metadata": {},
   "outputs": [
    {
     "data": {
      "application/vnd.jupyter.widget-view+json": {
       "model_id": "7db68c92895c4e42ba7256ae56656031",
       "version_major": 2,
       "version_minor": 0
      },
      "text/plain": [
       "  0%|          | 0/86 [00:00<?, ?it/s]"
      ]
     },
     "metadata": {},
     "output_type": "display_data"
    }
   ],
   "source": [
    "info_15 = [] \n",
    "\n",
    "for p in tqdm(range(280,1981,20)):\n",
    "    info_15.extend(get_page(url_15,p))\n",
    "df_15 = pd.DataFrame(info_15)"
   ]
  },
  {
   "cell_type": "code",
   "execution_count": 428,
   "id": "86753048",
   "metadata": {},
   "outputs": [
    {
     "data": {
      "application/vnd.jupyter.widget-view+json": {
       "model_id": "717f1641137248a9aad6d84a74358a20",
       "version_major": 2,
       "version_minor": 0
      },
      "text/plain": [
       "  0%|          | 0/87 [00:00<?, ?it/s]"
      ]
     },
     "metadata": {},
     "output_type": "display_data"
    }
   ],
   "source": [
    "info_16 = [] \n",
    "\n",
    "for p in tqdm(range(260,1981,20)):\n",
    "    info_16.extend(get_page(url_16,p))\n",
    "df_16 = pd.DataFrame(info_16)"
   ]
  },
  {
   "cell_type": "code",
   "execution_count": 429,
   "id": "23c5fc8d",
   "metadata": {},
   "outputs": [
    {
     "data": {
      "application/vnd.jupyter.widget-view+json": {
       "model_id": "2c178d24552b4479bc513369844bd947",
       "version_major": 2,
       "version_minor": 0
      },
      "text/plain": [
       "  0%|          | 0/88 [00:00<?, ?it/s]"
      ]
     },
     "metadata": {},
     "output_type": "display_data"
    }
   ],
   "source": [
    "info_17 = [] \n",
    "\n",
    "for p in tqdm(range(240,1981,20)):\n",
    "    info_17.extend(get_page(url_17,p))\n",
    "df_17 = pd.DataFrame(info_17)"
   ]
  },
  {
   "cell_type": "code",
   "execution_count": 430,
   "id": "8e9ebf07",
   "metadata": {},
   "outputs": [
    {
     "data": {
      "text/html": [
       "<div>\n",
       "<style scoped>\n",
       "    .dataframe tbody tr th:only-of-type {\n",
       "        vertical-align: middle;\n",
       "    }\n",
       "\n",
       "    .dataframe tbody tr th {\n",
       "        vertical-align: top;\n",
       "    }\n",
       "\n",
       "    .dataframe thead th {\n",
       "        text-align: right;\n",
       "    }\n",
       "</style>\n",
       "<table border=\"1\" class=\"dataframe\">\n",
       "  <thead>\n",
       "    <tr style=\"text-align: right;\">\n",
       "      <th></th>\n",
       "      <th>Тип</th>\n",
       "      <th>Площадь</th>\n",
       "      <th>Этаж</th>\n",
       "      <th>Стоимость</th>\n",
       "      <th>Адрес</th>\n",
       "    </tr>\n",
       "  </thead>\n",
       "  <tbody>\n",
       "    <tr>\n",
       "      <th>1755</th>\n",
       "      <td>3-комн. квартира</td>\n",
       "      <td>59,7 м²</td>\n",
       "      <td>1/5 эт.</td>\n",
       "      <td>20 000 000 ₽</td>\n",
       "      <td>Москва, Ботаническая улица, 5</td>\n",
       "    </tr>\n",
       "    <tr>\n",
       "      <th>1756</th>\n",
       "      <td>2-комн. квартира</td>\n",
       "      <td>60,8 м²</td>\n",
       "      <td>4/22 эт.</td>\n",
       "      <td>20 000 000 ₽</td>\n",
       "      <td>Москва, 3-я Хорошёвская улица, 17А</td>\n",
       "    </tr>\n",
       "    <tr>\n",
       "      <th>1757</th>\n",
       "      <td>2-комн. квартира</td>\n",
       "      <td>52 м²</td>\n",
       "      <td>13/17 эт.</td>\n",
       "      <td>20 000 000 ₽</td>\n",
       "      <td>Москва, улица Борисовские Пруды, 13к1</td>\n",
       "    </tr>\n",
       "    <tr>\n",
       "      <th>1758</th>\n",
       "      <td>3-комн. квартира</td>\n",
       "      <td>78,5 м²</td>\n",
       "      <td>7/13 эт.</td>\n",
       "      <td>20 000 000 ₽</td>\n",
       "      <td>Москва, Южнобутовская улица, 71</td>\n",
       "    </tr>\n",
       "    <tr>\n",
       "      <th>1759</th>\n",
       "      <td>1-комн. квартира</td>\n",
       "      <td>41,5 м²</td>\n",
       "      <td>4/9 эт.</td>\n",
       "      <td>20 000 000 ₽</td>\n",
       "      <td>Москва, Автозаводская улица, 23с64</td>\n",
       "    </tr>\n",
       "  </tbody>\n",
       "</table>\n",
       "</div>"
      ],
      "text/plain": [
       "                   Тип  Площадь       Этаж     Стоимость  \\\n",
       "1755  3-комн. квартира  59,7 м²    1/5 эт.  20 000 000 ₽   \n",
       "1756  2-комн. квартира  60,8 м²   4/22 эт.  20 000 000 ₽   \n",
       "1757  2-комн. квартира    52 м²  13/17 эт.  20 000 000 ₽   \n",
       "1758  3-комн. квартира  78,5 м²   7/13 эт.  20 000 000 ₽   \n",
       "1759  1-комн. квартира  41,5 м²    4/9 эт.  20 000 000 ₽   \n",
       "\n",
       "                                      Адрес  \n",
       "1755          Москва, Ботаническая улица, 5  \n",
       "1756     Москва, 3-я Хорошёвская улица, 17А  \n",
       "1757  Москва, улица Борисовские Пруды, 13к1  \n",
       "1758        Москва, Южнобутовская улица, 71  \n",
       "1759     Москва, Автозаводская улица, 23с64  "
      ]
     },
     "execution_count": 430,
     "metadata": {},
     "output_type": "execute_result"
    }
   ],
   "source": [
    "df_17.tail()"
   ]
  },
  {
   "cell_type": "markdown",
   "id": "0f5fe7e7",
   "metadata": {},
   "source": [
    "Ура, мучения закончились, встаньте из-за стола, сделайте разминку для глаз, и продолжим)\n",
    "\n",
    "Далее мы объединяем все таблички в одну и сохраняем её в отдельный файл, ибо ответ \"200\" выдаётся вообще не всегда:/"
   ]
  },
  {
   "cell_type": "code",
   "execution_count": 431,
   "id": "7ce8bcf2",
   "metadata": {},
   "outputs": [
    {
     "data": {
      "text/html": [
       "<div>\n",
       "<style scoped>\n",
       "    .dataframe tbody tr th:only-of-type {\n",
       "        vertical-align: middle;\n",
       "    }\n",
       "\n",
       "    .dataframe tbody tr th {\n",
       "        vertical-align: top;\n",
       "    }\n",
       "\n",
       "    .dataframe thead th {\n",
       "        text-align: right;\n",
       "    }\n",
       "</style>\n",
       "<table border=\"1\" class=\"dataframe\">\n",
       "  <thead>\n",
       "    <tr style=\"text-align: right;\">\n",
       "      <th></th>\n",
       "      <th>Тип</th>\n",
       "      <th>Площадь</th>\n",
       "      <th>Этаж</th>\n",
       "      <th>Стоимость</th>\n",
       "      <th>Адрес</th>\n",
       "    </tr>\n",
       "  </thead>\n",
       "  <tbody>\n",
       "    <tr>\n",
       "      <th>0</th>\n",
       "      <td>Студия</td>\n",
       "      <td>10 м²</td>\n",
       "      <td>1/3 эт.</td>\n",
       "      <td>1 049 000 ₽</td>\n",
       "      <td>Москва, поселение Первомайское, деревня Иванов...</td>\n",
       "    </tr>\n",
       "    <tr>\n",
       "      <th>1</th>\n",
       "      <td>Студия</td>\n",
       "      <td>10 м²</td>\n",
       "      <td>1/3 эт.</td>\n",
       "      <td>1 150 000 ₽</td>\n",
       "      <td>Москва, поселение Первомайское, деревня Иванов...</td>\n",
       "    </tr>\n",
       "    <tr>\n",
       "      <th>2</th>\n",
       "      <td>Апартаменты-студия</td>\n",
       "      <td>11,7 м²</td>\n",
       "      <td>1/16 эт.</td>\n",
       "      <td>1 500 000 ₽</td>\n",
       "      <td>Москва, Юго-Восточный административный округ, ...</td>\n",
       "    </tr>\n",
       "    <tr>\n",
       "      <th>3</th>\n",
       "      <td>Апартаменты-студия</td>\n",
       "      <td>15,3 м²</td>\n",
       "      <td>1/16 эт.</td>\n",
       "      <td>1 590 000 ₽</td>\n",
       "      <td>Москва, Волжский бульвар, 19</td>\n",
       "    </tr>\n",
       "    <tr>\n",
       "      <th>4</th>\n",
       "      <td>Апартаменты-студия</td>\n",
       "      <td>13 м²</td>\n",
       "      <td>1/3 эт.</td>\n",
       "      <td>1 650 000 ₽</td>\n",
       "      <td>Москва, посёлок Первомайское, Центральная улиц...</td>\n",
       "    </tr>\n",
       "    <tr>\n",
       "      <th>...</th>\n",
       "      <td>...</td>\n",
       "      <td>...</td>\n",
       "      <td>...</td>\n",
       "      <td>...</td>\n",
       "      <td>...</td>\n",
       "    </tr>\n",
       "    <tr>\n",
       "      <th>30795</th>\n",
       "      <td>3-комн. квартира</td>\n",
       "      <td>59,7 м²</td>\n",
       "      <td>1/5 эт.</td>\n",
       "      <td>20 000 000 ₽</td>\n",
       "      <td>Москва, Ботаническая улица, 5</td>\n",
       "    </tr>\n",
       "    <tr>\n",
       "      <th>30796</th>\n",
       "      <td>2-комн. квартира</td>\n",
       "      <td>60,8 м²</td>\n",
       "      <td>4/22 эт.</td>\n",
       "      <td>20 000 000 ₽</td>\n",
       "      <td>Москва, 3-я Хорошёвская улица, 17А</td>\n",
       "    </tr>\n",
       "    <tr>\n",
       "      <th>30797</th>\n",
       "      <td>2-комн. квартира</td>\n",
       "      <td>52 м²</td>\n",
       "      <td>13/17 эт.</td>\n",
       "      <td>20 000 000 ₽</td>\n",
       "      <td>Москва, улица Борисовские Пруды, 13к1</td>\n",
       "    </tr>\n",
       "    <tr>\n",
       "      <th>30798</th>\n",
       "      <td>3-комн. квартира</td>\n",
       "      <td>78,5 м²</td>\n",
       "      <td>7/13 эт.</td>\n",
       "      <td>20 000 000 ₽</td>\n",
       "      <td>Москва, Южнобутовская улица, 71</td>\n",
       "    </tr>\n",
       "    <tr>\n",
       "      <th>30799</th>\n",
       "      <td>1-комн. квартира</td>\n",
       "      <td>41,5 м²</td>\n",
       "      <td>4/9 эт.</td>\n",
       "      <td>20 000 000 ₽</td>\n",
       "      <td>Москва, Автозаводская улица, 23с64</td>\n",
       "    </tr>\n",
       "  </tbody>\n",
       "</table>\n",
       "<p>30800 rows × 5 columns</p>\n",
       "</div>"
      ],
      "text/plain": [
       "                      Тип  Площадь       Этаж     Стоимость  \\\n",
       "0                  Студия    10 м²    1/3 эт.   1 049 000 ₽   \n",
       "1                  Студия    10 м²    1/3 эт.   1 150 000 ₽   \n",
       "2      Апартаменты-студия  11,7 м²   1/16 эт.   1 500 000 ₽   \n",
       "3      Апартаменты-студия  15,3 м²   1/16 эт.   1 590 000 ₽   \n",
       "4      Апартаменты-студия    13 м²    1/3 эт.   1 650 000 ₽   \n",
       "...                   ...      ...        ...           ...   \n",
       "30795    3-комн. квартира  59,7 м²    1/5 эт.  20 000 000 ₽   \n",
       "30796    2-комн. квартира  60,8 м²   4/22 эт.  20 000 000 ₽   \n",
       "30797    2-комн. квартира    52 м²  13/17 эт.  20 000 000 ₽   \n",
       "30798    3-комн. квартира  78,5 м²   7/13 эт.  20 000 000 ₽   \n",
       "30799    1-комн. квартира  41,5 м²    4/9 эт.  20 000 000 ₽   \n",
       "\n",
       "                                                   Адрес  \n",
       "0      Москва, поселение Первомайское, деревня Иванов...  \n",
       "1      Москва, поселение Первомайское, деревня Иванов...  \n",
       "2      Москва, Юго-Восточный административный округ, ...  \n",
       "3                           Москва, Волжский бульвар, 19  \n",
       "4      Москва, посёлок Первомайское, Центральная улиц...  \n",
       "...                                                  ...  \n",
       "30795                      Москва, Ботаническая улица, 5  \n",
       "30796                 Москва, 3-я Хорошёвская улица, 17А  \n",
       "30797              Москва, улица Борисовские Пруды, 13к1  \n",
       "30798                    Москва, Южнобутовская улица, 71  \n",
       "30799                 Москва, Автозаводская улица, 23с64  \n",
       "\n",
       "[30800 rows x 5 columns]"
      ]
     },
     "execution_count": 431,
     "metadata": {},
     "output_type": "execute_result"
    }
   ],
   "source": [
    "df = pd.concat([df_0, df_1, df_2, df_3, df_4, df_5, df_6, df_7, df_8, df_9, df_10, df_11, df_12, df_13, df_14, df_15, df_16, df_17])\n",
    "df.reset_index(drop=True, inplace=True)\n",
    "df.to_csv('Project_data.txt', sep=',', index=False)\n",
    "df\n"
   ]
  }
 ],
 "metadata": {
  "kernelspec": {
   "display_name": "Python 3 (ipykernel)",
   "language": "python",
   "name": "python3"
  },
  "language_info": {
   "codemirror_mode": {
    "name": "ipython",
    "version": 3
   },
   "file_extension": ".py",
   "mimetype": "text/x-python",
   "name": "python",
   "nbconvert_exporter": "python",
   "pygments_lexer": "ipython3",
   "version": "3.9.12"
  }
 },
 "nbformat": 4,
 "nbformat_minor": 5
}
